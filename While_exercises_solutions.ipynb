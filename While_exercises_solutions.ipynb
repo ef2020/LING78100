{
  "nbformat": 4,
  "nbformat_minor": 0,
  "metadata": {
    "colab": {
      "name": "While exercises solutions.ipynb",
      "provenance": []
    },
    "kernelspec": {
      "name": "python3",
      "display_name": "Python 3"
    }
  },
  "cells": [
    {
      "cell_type": "markdown",
      "metadata": {
        "id": "mwebsvDGHxvu"
      },
      "source": [
        "## Solutions for `while` exercises\n",
        "\n",
        "What to pay attention to: \n",
        "1. nested staments (loops within loops and selections within loops);\n",
        "2. use of `break`;\n",
        "3. loop counter can be changed differently (not necessarily incremented by 1)."
      ]
    },
    {
      "cell_type": "markdown",
      "metadata": {
        "id": "_9IlF6gNfojW"
      },
      "source": [
        "###Ex. 1.1\n",
        "\n",
        "Write a Python script that prints natural numbers in reverse order from n to 1\n",
        "using WHILE loop."
      ]
    },
    {
      "cell_type": "code",
      "metadata": {
        "id": "6PNT-lgjfnuD",
        "outputId": "889b531c-252a-4bb0-b7d6-5cb782e03258",
        "colab": {
          "base_uri": "https://localhost:8080/",
          "height": 193
        }
      },
      "source": [
        "n = 10  # the natural number that set us the limit on the number\n",
        "        # of while loop iterations.\n",
        "i = 1\n",
        "while i <= 10:\n",
        "  print (i)\n",
        "  i += 1  # -= addition-assignment\n",
        "          # https://python-reference.readthedocs.io/en/latest/docs/operators/addition_assignment.html\n"
      ],
      "execution_count": 1,
      "outputs": [
        {
          "output_type": "stream",
          "text": [
            "1\n",
            "2\n",
            "3\n",
            "4\n",
            "5\n",
            "6\n",
            "7\n",
            "8\n",
            "9\n",
            "10\n"
          ],
          "name": "stdout"
        }
      ]
    },
    {
      "cell_type": "markdown",
      "metadata": {
        "id": "ETTkRxnCmkPv"
      },
      "source": [
        "###Ex. 1.2\n",
        "\n",
        "Write a Python script that prints natural numbers in reverse order from n to 1\n",
        "using WHILE loop."
      ]
    },
    {
      "cell_type": "code",
      "metadata": {
        "id": "h5UoWCm9mjch",
        "outputId": "761cc3fc-1fe8-4a7e-efde-b5c5d3392a69",
        "colab": {
          "base_uri": "https://localhost:8080/",
          "height": 140
        }
      },
      "source": [
        "n = 7  # the natural number that set us the limit on the number\n",
        "        # of while loop iterations.\n",
        "\n",
        "i = 7\n",
        "while i >= 1:\n",
        "  print (i)\n",
        "  i -= 1 # -= subtraction-assignment\n",
        "          # https://python-reference.readthedocs.io/en/latest/docs/operators/subtraction_assignment.html"
      ],
      "execution_count": 2,
      "outputs": [
        {
          "output_type": "stream",
          "text": [
            "7\n",
            "6\n",
            "5\n",
            "4\n",
            "3\n",
            "2\n",
            "1\n"
          ],
          "name": "stdout"
        }
      ]
    },
    {
      "cell_type": "markdown",
      "metadata": {
        "id": "MTqdPYgunIEG"
      },
      "source": [
        "###Ex. 1.3\n",
        "\n",
        "Write a Python script that prints all even numbers from 1 to n using WHILE\n",
        "loop.\n"
      ]
    },
    {
      "cell_type": "code",
      "metadata": {
        "id": "egOHInyZnQ5u",
        "outputId": "c7baf071-5ae3-4f5e-dce8-79ef738f1416",
        "colab": {
          "base_uri": "https://localhost:8080/",
          "height": 70
        }
      },
      "source": [
        "# version 1\n",
        "\n",
        "n = 7  # the natural number that set us the limit on the number\n",
        "        # of while loop iterations.\n",
        "\n",
        "i = 2\n",
        "while i <= n:\n",
        "  print (i)\n",
        "  i += 2 "
      ],
      "execution_count": 3,
      "outputs": [
        {
          "output_type": "stream",
          "text": [
            "2\n",
            "4\n",
            "6\n"
          ],
          "name": "stdout"
        }
      ]
    },
    {
      "cell_type": "code",
      "metadata": {
        "id": "1fY481kynRKW",
        "outputId": "53928cc7-8cf0-4d50-ee1e-f41f688dc941",
        "colab": {
          "base_uri": "https://localhost:8080/",
          "height": 70
        }
      },
      "source": [
        "# version 2\n",
        "\n",
        "n = 7  # the natural number that set us the limit on the number\n",
        "        # of while loop iterations.\n",
        "\n",
        "i = 1\n",
        "while i <= n:\n",
        "  if (i%2 == 0):\n",
        "    print (i)\n",
        "  i += 1 "
      ],
      "execution_count": 4,
      "outputs": [
        {
          "output_type": "stream",
          "text": [
            "2\n",
            "4\n",
            "6\n"
          ],
          "name": "stdout"
        }
      ]
    },
    {
      "cell_type": "markdown",
      "metadata": {
        "id": "6y3ECZtJnv0n"
      },
      "source": [
        "### Ex. 1.4\n",
        "Write a Python script that computes the sum of all natural numbers from 1 to\n",
        "n using WHILE loop."
      ]
    },
    {
      "cell_type": "code",
      "metadata": {
        "id": "2kIeXvHlnRN-",
        "outputId": "d4d8c58d-6f54-428e-8af5-ab4e9b68f839",
        "colab": {
          "base_uri": "https://localhost:8080/",
          "height": 34
        }
      },
      "source": [
        "# version 1\n",
        "\n",
        "n = 7  # the natural number that set us the limit on the number\n",
        "        # of while loop iterations.\n",
        "\n",
        "sum_num = 0\n",
        "i = 1\n",
        "while i <= n:\n",
        "  sum_num += i\n",
        "  i += 1 \n",
        "\n",
        "print (\"Even numbers from 1 to\", n, \":\", sum_num)"
      ],
      "execution_count": 5,
      "outputs": [
        {
          "output_type": "stream",
          "text": [
            "Even numbers from 1 to 7 : 28\n"
          ],
          "name": "stdout"
        }
      ]
    },
    {
      "cell_type": "code",
      "metadata": {
        "id": "jCQmqcmcnRT9"
      },
      "source": [
        ""
      ],
      "execution_count": null,
      "outputs": []
    },
    {
      "cell_type": "markdown",
      "metadata": {
        "id": "K-nfqKr5w8vn"
      },
      "source": [
        "### Ex. 2.1\n",
        "Write a Python script that computes the sum of all natural numbers from 1 to\n",
        "n using WHILE loop."
      ]
    },
    {
      "cell_type": "code",
      "metadata": {
        "id": "EO9XHV79w3Aq"
      },
      "source": [
        "def sum_of_two(num1, num2):\n",
        "  return (num1+num2)"
      ],
      "execution_count": 6,
      "outputs": []
    },
    {
      "cell_type": "code",
      "metadata": {
        "id": "ikZUv_1aw3Dg",
        "outputId": "224d082a-f74c-4026-e65a-bb7127e859fe",
        "colab": {
          "base_uri": "https://localhost:8080/",
          "height": 333
        }
      },
      "source": [
        "# Ex. 2.1 version 1\n",
        "# using the user defined function sum_of_two\n",
        "\n",
        "continueInput = True\n",
        "while continueInput:\n",
        "  a = int(input(\"Number a = \"))\n",
        "  b = int(input(\"Number b = \"))\n",
        "  print (\"a+b =\", sum_of_two(a,b))\n",
        "  while True:\n",
        "    response = input(\"Do you want to add up two numbers (yes / no)\\n\\t\")\n",
        "    if (response == \"no\"):\n",
        "      continueInput = False\n",
        "      break\n",
        "    elif (response == \"yes\"):\n",
        "      break\n",
        "    else:\n",
        "      print (\"Incorrect input\")\n"
      ],
      "execution_count": 7,
      "outputs": [
        {
          "output_type": "stream",
          "text": [
            "Number a = 3\n",
            "Number b = 4\n",
            "a+b = 7\n",
            "Do you want to add up two numbers (yes / no)\n",
            "\tyes\n",
            "Number a = 6\n",
            "Number b = 7\n",
            "a+b = 13\n",
            "Do you want to add up two numbers (yes / no)\n",
            "\tYES\n",
            "Incorrect input\n",
            "Do you want to add up two numbers (yes / no)\n",
            "\tyes\n",
            "Number a = 7\n",
            "Number b = 8\n",
            "a+b = 15\n",
            "Do you want to add up two numbers (yes / no)\n",
            "\tno\n"
          ],
          "name": "stdout"
        }
      ]
    },
    {
      "cell_type": "code",
      "metadata": {
        "id": "pyF1N99Jw3JF",
        "outputId": "bae9aae4-8b9e-4685-b238-b6b2250f09b0",
        "colab": {
          "base_uri": "https://localhost:8080/",
          "height": 333
        }
      },
      "source": [
        "# Ex. 2.1 version 2\n",
        "# without using the user defined function sum_of_two\n",
        "\n",
        "continueInput = True\n",
        "while continueInput:\n",
        "  a = int(input(\"Number a = \"))\n",
        "  b = int(input(\"Number b = \"))\n",
        "  print (\"a+b =\", a+b)\n",
        "  while True:\n",
        "    response = input(\"Do you want to add up two numbers (yes / no)\\n\\t\")\n",
        "    if (response == \"no\"):\n",
        "      continueInput = False\n",
        "      break\n",
        "    elif (response == \"yes\"):\n",
        "      break\n",
        "    else:\n",
        "      print (\"Incorrect input\")\n"
      ],
      "execution_count": 8,
      "outputs": [
        {
          "output_type": "stream",
          "text": [
            "Number a = 3\n",
            "Number b = 4\n",
            "a+b = 7\n",
            "Do you want to add up two numbers (yes / no)\n",
            "\tyes\n",
            "Number a = 5\n",
            "Number b = 6\n",
            "a+b = 11\n",
            "Do you want to add up two numbers (yes / no)\n",
            "\tYES\n",
            "Incorrect input\n",
            "Do you want to add up two numbers (yes / no)\n",
            "\tyes\n",
            "Number a = 6\n",
            "Number b = 7\n",
            "a+b = 13\n",
            "Do you want to add up two numbers (yes / no)\n",
            "\tno\n"
          ],
          "name": "stdout"
        }
      ]
    },
    {
      "cell_type": "markdown",
      "metadata": {
        "id": "tadOoXJG64Ha"
      },
      "source": [
        "### Ex. 2.2\n",
        "Write a while loop that displays the following set of numbers: 0, 10, 20, 30, 40, … 90, 100 "
      ]
    },
    {
      "cell_type": "code",
      "metadata": {
        "id": "jt7eiJiI64Ha",
        "outputId": "1467b2ab-0ea4-4480-c946-c4f29195919a",
        "colab": {
          "base_uri": "https://localhost:8080/",
          "height": 210
        }
      },
      "source": [
        "i = 0\n",
        "while i <= 100:\n",
        "  print (i)\n",
        "  i += 10 \n",
        "\n"
      ],
      "execution_count": 9,
      "outputs": [
        {
          "output_type": "stream",
          "text": [
            "0\n",
            "10\n",
            "20\n",
            "30\n",
            "40\n",
            "50\n",
            "60\n",
            "70\n",
            "80\n",
            "90\n",
            "100\n"
          ],
          "name": "stdout"
        }
      ]
    },
    {
      "cell_type": "markdown",
      "metadata": {
        "id": "bjhr0HEF64Hc"
      },
      "source": [
        "###Ex. 2.3\n",
        "\n",
        "Running on a treadmill you burn 4.2 calories per minute. Write a program that uses a loop to display the number of calories burned after 10, 15, 20, 25, and 30 minutes. "
      ]
    },
    {
      "cell_type": "code",
      "metadata": {
        "id": "CQB8aLSO64Hd",
        "outputId": "81cb6927-422f-4513-f195-8473499938e2",
        "colab": {
          "base_uri": "https://localhost:8080/",
          "height": 105
        }
      },
      "source": [
        "i = 10\n",
        "while i <= 30:\n",
        "  print (\"Calories burned at\", i, \"minutes:\", i*4.2)\n",
        "  i += 5 \n"
      ],
      "execution_count": 10,
      "outputs": [
        {
          "output_type": "stream",
          "text": [
            "Calories burned at 10 minutes: 42.0\n",
            "Calories burned at 15 minutes: 63.0\n",
            "Calories burned at 20 minutes: 84.0\n",
            "Calories burned at 25 minutes: 105.0\n",
            "Calories burned at 30 minutes: 126.0\n"
          ],
          "name": "stdout"
        }
      ]
    },
    {
      "cell_type": "markdown",
      "metadata": {
        "id": "cuNcbdAD7juk"
      },
      "source": [
        "###Ex. 2.4\n",
        "\n",
        "At one college, the tuition for a full‐time student is $8000 per semester. It has been announced that the tuition will increase by 3 percent each year for the next five years. Write a program with a loop that displays the projected semester tuition amount for the next 5 years. \n"
      ]
    },
    {
      "cell_type": "code",
      "metadata": {
        "id": "O_KIKUEE7jum",
        "outputId": "8d1a1205-8a26-4709-e0a7-4655cab72856",
        "colab": {
          "base_uri": "https://localhost:8080/",
          "height": 105
        }
      },
      "source": [
        "year = 1\n",
        "current_tuition = 8000\n",
        "while year <= 5:\n",
        "  print (\"Year\", year, \"Tuition =\", round(current_tuition, 2))\n",
        "  current_tuition = current_tuition+current_tuition*0.03\n",
        "  year += 1 \n"
      ],
      "execution_count": 11,
      "outputs": [
        {
          "output_type": "stream",
          "text": [
            "Year 1 Tuition = 8000\n",
            "Year 2 Tuition = 8240.0\n",
            "Year 3 Tuition = 8487.2\n",
            "Year 4 Tuition = 8741.82\n",
            "Year 5 Tuition = 9004.07\n"
          ],
          "name": "stdout"
        }
      ]
    },
    {
      "cell_type": "markdown",
      "metadata": {
        "id": "hdeY3x0i8aqh"
      },
      "source": [
        "###Ex. 2.5\n",
        "\n",
        "Write a Python program that prints all the numbers from 0 to 6 except 3 and 6. Note : Use `continue` statement. "
      ]
    },
    {
      "cell_type": "code",
      "metadata": {
        "id": "H_mT4Nmx8aqj",
        "outputId": "42f56978-ea66-491b-9d9b-d61fde3d4b18",
        "colab": {
          "base_uri": "https://localhost:8080/",
          "height": 105
        }
      },
      "source": [
        "# version 1\n",
        "\n",
        "i = 0\n",
        "while i <= 6:\n",
        "  if (i != 3) and (i != 6):   # try to substitute OR with AND\n",
        "                              # can you explain the loop output? \n",
        "    print (i)\n",
        "  i += 1\n"
      ],
      "execution_count": 12,
      "outputs": [
        {
          "output_type": "stream",
          "text": [
            "0\n",
            "1\n",
            "2\n",
            "4\n",
            "5\n"
          ],
          "name": "stdout"
        }
      ]
    },
    {
      "cell_type": "code",
      "metadata": {
        "id": "YeL2yKhG89YO",
        "outputId": "3399c5d0-8b6d-40ae-a4a7-5abd3dd88d25",
        "colab": {
          "base_uri": "https://localhost:8080/",
          "height": 105
        }
      },
      "source": [
        "# version 2\n",
        "\n",
        "i = 0\n",
        "print (i)\n",
        "while i <= 6:\n",
        "  if (i % 3 != 0) :\n",
        "    print (i)\n",
        "  i += 1\n"
      ],
      "execution_count": 13,
      "outputs": [
        {
          "output_type": "stream",
          "text": [
            "0\n",
            "1\n",
            "2\n",
            "4\n",
            "5\n"
          ],
          "name": "stdout"
        }
      ]
    },
    {
      "cell_type": "markdown",
      "metadata": {
        "id": "Ww7jXRBy9Mn9"
      },
      "source": [
        "###Ex. 2.6\n",
        "\n",
        "Write a Python program which iterates the integers from 2 to 15. For multiples of three print \"Fizz\" instead of the number and for the multiples of five print \"Buzz\". For numbers which are multiples of both three and five print \"FizzBuzz\". \n"
      ]
    },
    {
      "cell_type": "code",
      "metadata": {
        "id": "xJmCgSKx9Mn_",
        "outputId": "94f155e5-f69b-4f03-a497-cb086d4dc9a7",
        "colab": {
          "base_uri": "https://localhost:8080/",
          "height": 263
        }
      },
      "source": [
        "i = 2\n",
        "while i <= 15:\n",
        "  if (i%3==0) and (i%5==0):   # What happens if you change the order of the\n",
        "                              # conditions in the if..elif..else statement \n",
        "    print (\"FizzBuzz\")\n",
        "  elif (i%3==0):\n",
        "    print (\"Fizz\")\n",
        "  elif (i%5==0):\n",
        "    print (\"Buzz\")\n",
        "  else:\n",
        "    print (i)\n",
        "  i += 1\n"
      ],
      "execution_count": 14,
      "outputs": [
        {
          "output_type": "stream",
          "text": [
            "2\n",
            "Fizz\n",
            "4\n",
            "Buzz\n",
            "Fizz\n",
            "7\n",
            "8\n",
            "Fizz\n",
            "Buzz\n",
            "11\n",
            "Fizz\n",
            "13\n",
            "14\n",
            "FizzBuzz\n"
          ],
          "name": "stdout"
        }
      ]
    },
    {
      "cell_type": "markdown",
      "metadata": {
        "id": "VPrLxcx295xx"
      },
      "source": [
        "###Ex. 2.7\n",
        "\n",
        "Write a program that determines which of the numbers from 3 till 32 are prime. Use a nested loop and the loop from the is_prime(n) function (previous class). Hint: nested loops."
      ]
    },
    {
      "cell_type": "code",
      "metadata": {
        "id": "wpgCke1o_X1d",
        "outputId": "fc301b40-c29a-4c9d-ee5e-646fba65cdb0",
        "colab": {
          "base_uri": "https://localhost:8080/",
          "height": 34
        }
      },
      "source": [
        "# what is a prime number: https://en.wikipedia.org/wiki/Prime_number\n",
        "\n",
        "# Solution is from \n",
        "# https://www.geeksforgeeks.org/python-program-to-check-whether-a-number-is-prime-or-not/\n",
        "\n",
        "# Python program to check if  \n",
        "# given number is prime or not \n",
        "  \n",
        "num = 13\n",
        "  \n",
        "# If given number is greater than 1 \n",
        "if num > 1: \n",
        "      \n",
        "   # Iterate from 2 to num / 2  \n",
        "   for i in range(2, num): \n",
        "         \n",
        "       # If num is divisible by any number between  \n",
        "       # 2 and num / 2, it is not prime  \n",
        "       if (num % i) == 0: \n",
        "           print(num, \"is not a prime number\") \n",
        "           break\n",
        "   else: \n",
        "       print(num, \"is a prime number\") \n",
        "  \n",
        "else: \n",
        "   print(num, \"is not a prime number\") "
      ],
      "execution_count": 52,
      "outputs": [
        {
          "output_type": "stream",
          "text": [
            "13 is a prime number\n"
          ],
          "name": "stdout"
        }
      ]
    },
    {
      "cell_type": "code",
      "metadata": {
        "id": "YaLM3logAwRd",
        "outputId": "19d37b8d-52a0-4e30-9239-be321e095f12",
        "colab": {
          "base_uri": "https://localhost:8080/",
          "height": 34
        }
      },
      "source": [
        "# re-write the above solution with WHILE loop instead of FOR\n",
        "\n",
        "num = 13\n",
        "  \n",
        "# If given number is greater than 1 \n",
        "if num > 1: \n",
        "      \n",
        "   # Iterate from 2 to num / 2  \n",
        "  i = 2\n",
        "  while i <= num/2: \n",
        "         \n",
        "       # If num is divisible by any number between  \n",
        "       # 2 and num / 2, it is not prime  \n",
        "    if (num % i) == 0: \n",
        "      print(num, \"is not a prime number\") \n",
        "      break\n",
        "    i += 1\n",
        "\n",
        "  if (i > num/2):\n",
        "      print(num, \"is a prime number\") \n",
        "    \n",
        "  \n",
        "else: \n",
        "  print(num, \"is not a prime number\") "
      ],
      "execution_count": 15,
      "outputs": [
        {
          "output_type": "stream",
          "text": [
            "13 is a prime number\n"
          ],
          "name": "stdout"
        }
      ]
    },
    {
      "cell_type": "code",
      "metadata": {
        "id": "MTop2Vb9Dgrg",
        "outputId": "29d76488-a11d-43e6-b61f-58e1904d147c",
        "colab": {
          "base_uri": "https://localhost:8080/",
          "height": 34
        }
      },
      "source": [
        "# simplified version of the above code (we know that n >= 3)\n",
        "\n",
        "num = 17\n",
        "\n",
        "# Iterate from 2 to num / 2  \n",
        "i = 2\n",
        "while i <= num/2: \n",
        "         \n",
        "       # If num is divisible by any number between  \n",
        "       # 2 and num / 2, it is not prime  \n",
        "  if (num % i) == 0: \n",
        "    print(num, \"is not a prime number\") \n",
        "    break\n",
        "  i += 1\n",
        "\n",
        "if (i > num/2):\n",
        "    print(num, \"is a prime number\") \n",
        "    \n"
      ],
      "execution_count": 61,
      "outputs": [
        {
          "output_type": "stream",
          "text": [
            "17 is a prime number\n"
          ],
          "name": "stdout"
        }
      ]
    },
    {
      "cell_type": "markdown",
      "metadata": {
        "id": "crf47sB6_3PY"
      },
      "source": [
        "Now, there are two options: \n",
        "\n",
        "1. create a fuction that checks if an input number is a prime or not\n",
        "2. put another loop around the solution above"
      ]
    },
    {
      "cell_type": "code",
      "metadata": {
        "id": "Gs2ltd2_AcK2"
      },
      "source": [
        "# Version 1\n",
        "\n",
        "def is_prime(n):\n",
        "  i = 2\n",
        "  while i <= n/2: \n",
        "         \n",
        "       # If n is divisible by any number between  \n",
        "       # 2 and n / 2, it is not prime  \n",
        "    if (n % i) == 0: \n",
        "      return (False)\n",
        "    i += 1\n",
        "\n",
        "  return (True)"
      ],
      "execution_count": 16,
      "outputs": []
    },
    {
      "cell_type": "code",
      "metadata": {
        "id": "nlT0srWbF-lJ",
        "outputId": "5e75f34c-8903-48d9-cce4-23f94f20b63e",
        "colab": {
          "base_uri": "https://localhost:8080/",
          "height": 544
        }
      },
      "source": [
        "num = 3\n",
        "while num <=32:\n",
        "  print(num,\"is a prime number:\",is_prime(num))\n",
        "  num += 1"
      ],
      "execution_count": 17,
      "outputs": [
        {
          "output_type": "stream",
          "text": [
            "3 is a prime number: True\n",
            "4 is a prime number: False\n",
            "5 is a prime number: True\n",
            "6 is a prime number: False\n",
            "7 is a prime number: True\n",
            "8 is a prime number: False\n",
            "9 is a prime number: False\n",
            "10 is a prime number: False\n",
            "11 is a prime number: True\n",
            "12 is a prime number: False\n",
            "13 is a prime number: True\n",
            "14 is a prime number: False\n",
            "15 is a prime number: False\n",
            "16 is a prime number: False\n",
            "17 is a prime number: True\n",
            "18 is a prime number: False\n",
            "19 is a prime number: True\n",
            "20 is a prime number: False\n",
            "21 is a prime number: False\n",
            "22 is a prime number: False\n",
            "23 is a prime number: True\n",
            "24 is a prime number: False\n",
            "25 is a prime number: False\n",
            "26 is a prime number: False\n",
            "27 is a prime number: False\n",
            "28 is a prime number: False\n",
            "29 is a prime number: True\n",
            "30 is a prime number: False\n",
            "31 is a prime number: True\n",
            "32 is a prime number: False\n"
          ],
          "name": "stdout"
        }
      ]
    },
    {
      "cell_type": "code",
      "metadata": {
        "id": "zyngq3GdGzen",
        "outputId": "383093ea-9a0c-4ecf-e967-e8b9d3c5dc3f",
        "colab": {
          "base_uri": "https://localhost:8080/",
          "height": 544
        }
      },
      "source": [
        "# Version 2\n",
        "\n",
        "num = 3\n",
        "while num <=32:\n",
        "  i = 2\n",
        "  while i <= num/2: \n",
        "         \n",
        "       # If n is divisible by any number between  \n",
        "       # 2 and n / 2, it is not prime  \n",
        "    if (num % i) == 0: \n",
        "      print(num, \"is NOT a prime number\") \n",
        "      break\n",
        "    i += 1\n",
        "\n",
        "  if (i > num/2):\n",
        "    print(num, \"is a prime number\") \n",
        "  \n",
        "  num += 1"
      ],
      "execution_count": 18,
      "outputs": [
        {
          "output_type": "stream",
          "text": [
            "3 is a prime number\n",
            "4 is NOT a prime number\n",
            "5 is a prime number\n",
            "6 is NOT a prime number\n",
            "7 is a prime number\n",
            "8 is NOT a prime number\n",
            "9 is NOT a prime number\n",
            "10 is NOT a prime number\n",
            "11 is a prime number\n",
            "12 is NOT a prime number\n",
            "13 is a prime number\n",
            "14 is NOT a prime number\n",
            "15 is NOT a prime number\n",
            "16 is NOT a prime number\n",
            "17 is a prime number\n",
            "18 is NOT a prime number\n",
            "19 is a prime number\n",
            "20 is NOT a prime number\n",
            "21 is NOT a prime number\n",
            "22 is NOT a prime number\n",
            "23 is a prime number\n",
            "24 is NOT a prime number\n",
            "25 is NOT a prime number\n",
            "26 is NOT a prime number\n",
            "27 is NOT a prime number\n",
            "28 is NOT a prime number\n",
            "29 is a prime number\n",
            "30 is NOT a prime number\n",
            "31 is a prime number\n",
            "32 is NOT a prime number\n"
          ],
          "name": "stdout"
        }
      ]
    },
    {
      "cell_type": "code",
      "metadata": {
        "id": "XAetoBDDHRsY"
      },
      "source": [
        ""
      ],
      "execution_count": null,
      "outputs": []
    }
  ]
}