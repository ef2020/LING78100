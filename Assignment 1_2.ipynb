{
  "nbformat": 4,
  "nbformat_minor": 0,
  "metadata": {
    "colab": {
      "name": "Assignment 1_2.ipynb",
      "provenance": [],
      "collapsed_sections": []
    },
    "kernelspec": {
      "name": "python3",
      "display_name": "Python 3"
    }
  },
  "cells": [
    {
      "cell_type": "markdown",
      "metadata": {
        "id": "cUvR2_jrFaZM",
        "colab_type": "text"
      },
      "source": [
        "**Assignment 1 part 2**\n",
        "\n",
        "5 (5 out of 15) points\n",
        "\n",
        "* due Sept. 21, 11:45am (before the beginning of the class);\n",
        "* only Blackboard electronic submissions will be accepted;\n",
        "* no late submissions will be accepted;\n",
        "* this is an individual assignment;\n",
        "* name you file yourLastName_HW1_2.ipynb;\n",
        "* download your notebook from Google Colab?:\n",
        "* 1. select 'Files' tab and 'Rename' your notebook following the pattern specified above;\n",
        "* 2. select 'Edit' and 'Clear All Outputs';\n",
        "* 3. select 'Runtime' and 'Restart Runtime';\n",
        "* 4. select 'Files' tab and select 'Save' option to make sure that you saved the latest changes;\n",
        "* 5. select 'File', then 'Download' (choose the .ipynb option).\n",
        "* Upload your assignment on the class blackboard (*Help*: https://help.blackboard.com/Learn/Student/Assignments/Submit_Assignments). "
      ]
    },
    {
      "cell_type": "markdown",
      "metadata": {
        "id": "2bI11wtfF7Md",
        "colab_type": "text"
      },
      "source": [
        "**Problem Statement**\n",
        "\n",
        "Introduce four variables: \n",
        "\n",
        "* *login*, assign within notebook value \"LING78100\"\n",
        "* *pswd*, assign within notebook value 1234\n",
        "* *sub_login*, ask the user to input a string value for this variable \n",
        "* *sub_pswd*, ask the user to input an integer value for this variable \n",
        "\n",
        "If both *sub_login* is equal to *login* **and** *sub_pswd* is equal to *pswd* then output the message \"Welcome to your account\".\n",
        "\n",
        "If *sub_login* is equal to *login* **but** *sub_pswd* is **not** equal to *pswd* then output the message \"Have you forgotten your password?\"\n",
        "\n",
        "Otherwise, output the message \"Incorrect account credentials.\""
      ]
    },
    {
      "cell_type": "code",
      "metadata": {
        "id": "KoWsJ3tEFYM9",
        "colab_type": "code",
        "colab": {}
      },
      "source": [
        "# your code goes here"
      ],
      "execution_count": null,
      "outputs": []
    }
  ]
}