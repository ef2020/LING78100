{
  "nbformat": 4,
  "nbformat_minor": 0,
  "metadata": {
    "colab": {
      "name": "01 Variables. Additional exercises.ipynb",
      "provenance": [],
      "collapsed_sections": []
    },
    "kernelspec": {
      "name": "python3",
      "display_name": "Python 3"
    }
  },
  "cells": [
    {
      "cell_type": "markdown",
      "metadata": {
        "id": "VTX7v2-mD5z1",
        "colab_type": "text"
      },
      "source": [
        "### Variables. Additional exercises"
      ]
    },
    {
      "cell_type": "code",
      "metadata": {
        "id": "FrvZHRwJD39_",
        "colab_type": "code",
        "colab": {}
      },
      "source": [
        "# 1. The speed below is in miles per hour, convert it to kilometers per hous. \n",
        "\n",
        "mph = 65"
      ],
      "execution_count": null,
      "outputs": []
    },
    {
      "cell_type": "code",
      "metadata": {
        "id": "w7f7sU1TEtB4",
        "colab_type": "code",
        "colab": {}
      },
      "source": [
        "# 2. Write a Python program which accepts the radius of a circle from the user and compute the area. \n",
        "# Sample Output :\n",
        "# r = 1.1\n",
        "# Area = 3.8013271108436504"
      ],
      "execution_count": null,
      "outputs": []
    },
    {
      "cell_type": "code",
      "metadata": {
        "id": "pid4Le-gFDee",
        "colab_type": "code",
        "colab": {}
      },
      "source": [
        "# 3. Write a Python program that accepts a digit (n) and computes the value of n+nn+nnn\n",
        "# Sample value of n is 5\n",
        "# Expected Result : 615"
      ],
      "execution_count": null,
      "outputs": []
    },
    {
      "cell_type": "code",
      "metadata": {
        "id": "M8krS-rWFkJP",
        "colab_type": "code",
        "colab": {}
      },
      "source": [
        "# 4. Evaluate the following numerical expressions in your head, then use the active code window to check your results:\n",
        "# Use section 10.3.1. Mapping Operators to Functions from Python documentation: \n",
        "# https://docs.python.org/3.4/library/operator.html\n",
        "# Pay attention to the types of the input data operators\n",
        "\n",
        "print (5 / 12)\n",
        "print (12 / 15)\n",
        "print (12 / 5)\n",
        "print (15 // 12)\n",
        "print (12 // 15)\n",
        "print (12 // 5)\n",
        "print (5 % 2)\n",
        "print (9 % 5)\n",
        "print (15 % 12)"
      ],
      "execution_count": null,
      "outputs": []
    },
    {
      "cell_type": "code",
      "metadata": {
        "id": "OxqUy357Fkz_",
        "colab_type": "code",
        "colab": {}
      },
      "source": [
        "# 5. Many people keep time using a 24 hour clock (11 is 11am and 23 is 11pm, 0 is midnight). \n",
        "# If it is currently 13 and you set your alarm to go off in 50 hours, it will be 15 (3pm). \n",
        "# Write a Python program to solve the general version of the above problem. \n",
        "# Ask the user for the time now (in hours), and then ask for the number of hours to \n",
        "# wait for the alarm. Your program should output what the time will be on the \n",
        "# clock when the alarm goes off."
      ],
      "execution_count": null,
      "outputs": []
    },
    {
      "cell_type": "code",
      "metadata": {
        "id": "XL6VmafpHM1x",
        "colab_type": "code",
        "colab": {}
      },
      "source": [
        "# 6. Add parentheses to the expression 6 * 1 - 2 to change its value from 4 to -6.\n",
        "\n",
        "6 * 1 - 2"
      ],
      "execution_count": null,
      "outputs": []
    }
  ]
}