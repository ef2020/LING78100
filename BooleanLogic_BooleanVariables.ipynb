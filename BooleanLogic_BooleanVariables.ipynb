{
  "nbformat": 4,
  "nbformat_minor": 0,
  "metadata": {
    "colab": {
      "name": "BooleanLogic_BooleanVariables.ipynb",
      "provenance": [],
      "collapsed_sections": []
    },
    "kernelspec": {
      "name": "python3",
      "display_name": "Python 3"
    }
  },
  "cells": [
    {
      "cell_type": "markdown",
      "metadata": {
        "id": "pQv2U1y1jh0A",
        "colab_type": "text"
      },
      "source": [
        "# Boolean Variables, Boolean Logic\n",
        "\n"
      ]
    },
    {
      "cell_type": "markdown",
      "metadata": {
        "id": "W8BjgAZhpZhh",
        "colab_type": "text"
      },
      "source": [
        "## Boolean type\n",
        "\n",
        "Required Reading:\n",
        "* Section 5.2 (Boolean expressions): http://greenteapress.com/thinkpython2/html/thinkpython2006.html#sec55\n",
        "\n",
        "\n",
        "Recommended reading: \n",
        "* Section 7.1 (Boolean Values and Boolean Expressions): https://runestone.academy/runestone/books/published/thinkcspy/Selection/BooleanValuesandBooleanExpressions.html\n",
        "* Section 7.2 (Logical operators): https://runestone.academy/runestone/books/published/thinkcspy/Selection/Logicaloperators.html"
      ]
    },
    {
      "cell_type": "markdown",
      "metadata": {
        "id": "_mDYXiPaoCMI",
        "colab_type": "text"
      },
      "source": [
        "## Booleans\n",
        "Booleans represent the truth or success of a statement, and are commonly used for branching and checking status in code.\n",
        "\n",
        "They can take two values: *True* or *False*."
      ]
    },
    {
      "cell_type": "code",
      "metadata": {
        "id": "CNZKYwn0oHn3",
        "colab_type": "code",
        "colab": {}
      },
      "source": [
        "bool_1 = True \n",
        "bool_2 = False\n",
        "\n",
        "print(bool_1)\n",
        "print(bool_2)\n",
        "\n",
        "print (type(bool_1)) # print the type of the bool_1 variable\n",
        "print (type(bool_2)) # print the type of the bool_2 variable"
      ],
      "execution_count": null,
      "outputs": []
    },
    {
      "cell_type": "markdown",
      "metadata": {
        "id": "F-F5UMQeoPEu",
        "colab_type": "text"
      },
      "source": [
        "### Boolean Operations:\n",
        "Frequently, one wants to combine or modify boolean values. Python has several operations for just this purpose:\n",
        "\n",
        "**not** a: returns the opposite value of a.\n",
        "a **and** b: returns true if and only if both a and b are true.\n",
        "a **or** b: returns true either a or b are true, or both.\n",
        "\n",
        "Boolean operations in Python are standad Boolean (logic) operations. See the slides on Boolean logic.\n",
        "\n",
        "### Comparison operators: ==, !=, <=, etc.\n",
        "* X == Y\n",
        "* Pay attention to the double equality sign (==)\n",
        "* Assignment (=) vs comparison (==)"
      ]
    },
    {
      "cell_type": "code",
      "metadata": {
        "id": "z4dkOiugok1O",
        "colab_type": "code",
        "colab": {}
      },
      "source": [
        "a = True\n",
        "b = False\n",
        "\n",
        "print (a and b)"
      ],
      "execution_count": null,
      "outputs": []
    },
    {
      "cell_type": "code",
      "metadata": {
        "id": "kZjIuQeJpk6O",
        "colab_type": "code",
        "colab": {}
      },
      "source": [
        "print (a or b)"
      ],
      "execution_count": null,
      "outputs": []
    },
    {
      "cell_type": "code",
      "metadata": {
        "id": "9qHeQqEZpnnn",
        "colab_type": "code",
        "colab": {}
      },
      "source": [
        "print (not a)"
      ],
      "execution_count": null,
      "outputs": []
    },
    {
      "cell_type": "markdown",
      "metadata": {
        "id": "nv46bk_op19v",
        "colab_type": "text"
      },
      "source": [
        "#### Relational operations\n",
        "If the expression on the left is a different numerical type than the expression on the right, everything is converted to float."
      ]
    },
    {
      "cell_type": "code",
      "metadata": {
        "id": "dhY6oQSop0vl",
        "colab_type": "code",
        "colab": {}
      },
      "source": [
        "x = 6\n",
        "y = 7.8\n",
        "print (x < y)"
      ],
      "execution_count": null,
      "outputs": []
    },
    {
      "cell_type": "code",
      "metadata": {
        "id": "L-ECdGMOqLp-",
        "colab_type": "code",
        "colab": {}
      },
      "source": [
        "print (2*x < y)"
      ],
      "execution_count": null,
      "outputs": []
    },
    {
      "cell_type": "markdown",
      "metadata": {
        "id": "ifFZYvnoqY-2",
        "colab_type": "text"
      },
      "source": [
        "#### String Comparison\n",
        "Two strings are equal if they have the same length and agree in each position."
      ]
    },
    {
      "cell_type": "code",
      "metadata": {
        "id": "4T5A4_HcqcEn",
        "colab_type": "code",
        "colab": {}
      },
      "source": [
        "var = 'abc'\n",
        "print (var == 'abc')"
      ],
      "execution_count": null,
      "outputs": []
    },
    {
      "cell_type": "code",
      "metadata": {
        "id": "e93S8Jmpqgyn",
        "colab_type": "code",
        "colab": {}
      },
      "source": [
        "print (var == 'Abc')"
      ],
      "execution_count": null,
      "outputs": []
    },
    {
      "cell_type": "code",
      "metadata": {
        "id": "6-qMZcZBqkhV",
        "colab_type": "code",
        "colab": {}
      },
      "source": [
        "print (var == 'abc ')"
      ],
      "execution_count": null,
      "outputs": []
    },
    {
      "cell_type": "markdown",
      "metadata": {
        "id": "7GC6pDQLq8mY",
        "colab_type": "text"
      },
      "source": [
        "#### Assignment vs Comparison\n",
        "* Assignment: single equality sign (=)\n",
        "* Comparison: double equality sign (==)\n"
      ]
    },
    {
      "cell_type": "code",
      "metadata": {
        "id": "Y_OziDM8qp9Q",
        "colab_type": "code",
        "colab": {}
      },
      "source": [
        "print (var) # pay attention that comparison does not change the variable value."
      ],
      "execution_count": null,
      "outputs": []
    },
    {
      "cell_type": "code",
      "metadata": {
        "id": "ZpluMnZSqy8e",
        "colab_type": "code",
        "colab": {}
      },
      "source": [
        "print ('cat' < 'dog')"
      ],
      "execution_count": null,
      "outputs": []
    },
    {
      "cell_type": "code",
      "metadata": {
        "id": "GF05zFUlrYk4",
        "colab_type": "code",
        "colab": {}
      },
      "source": [
        "var1 = 5\n",
        "var2 = 6\n",
        "var3 = 7"
      ],
      "execution_count": null,
      "outputs": []
    },
    {
      "cell_type": "markdown",
      "metadata": {
        "id": "czXghJV9rQ-K",
        "colab_type": "text"
      },
      "source": [
        "#### Consider the outcomes of the following examples\n",
        "\n"
      ]
    },
    {
      "cell_type": "code",
      "metadata": {
        "id": "7cn9Kh6arTBE",
        "colab_type": "code",
        "colab": {}
      },
      "source": [
        "print (var1 + var2 == 11)\n"
      ],
      "execution_count": null,
      "outputs": []
    },
    {
      "cell_type": "code",
      "metadata": {
        "id": "uc7R24EGrcS8",
        "colab_type": "code",
        "colab": {}
      },
      "source": [
        "print (var2 + var3 == 13)\n"
      ],
      "execution_count": null,
      "outputs": []
    },
    {
      "cell_type": "code",
      "metadata": {
        "id": "P-6mJI99rjug",
        "colab_type": "code",
        "colab": {}
      },
      "source": [
        "print (var1 + var2 == 11 and var2 + var3 == 13)\n"
      ],
      "execution_count": null,
      "outputs": []
    },
    {
      "cell_type": "code",
      "metadata": {
        "id": "biaCjxr_rm3Q",
        "colab_type": "code",
        "colab": {}
      },
      "source": [
        "print (var1 + var2 == 12 and var2 + var3 == 13)\n"
      ],
      "execution_count": null,
      "outputs": []
    },
    {
      "cell_type": "code",
      "metadata": {
        "id": "PHofvqhero8H",
        "colab_type": "code",
        "colab": {}
      },
      "source": [
        "print (var1 + var2 == 12 or var2 + var3 == 13)\n"
      ],
      "execution_count": null,
      "outputs": []
    },
    {
      "cell_type": "code",
      "metadata": {
        "id": "oC-P0uHdrsXo",
        "colab_type": "code",
        "colab": {}
      },
      "source": [
        "print ( (not var1 + var2 == 12) or (    var2 + var3 == 14) )\n"
      ],
      "execution_count": null,
      "outputs": []
    },
    {
      "cell_type": "markdown",
      "metadata": {
        "id": "osI_aZGrr53I",
        "colab_type": "text"
      },
      "source": [
        "#### Exercise 1\n",
        "Complete the exercises below. Try to find the outcome before executing the cell."
      ]
    },
    {
      "cell_type": "code",
      "metadata": {
        "id": "dR4NlZm_sCAf",
        "colab_type": "code",
        "colab": {}
      },
      "source": [
        "# Ex. 1.a\n",
        "True and True"
      ],
      "execution_count": null,
      "outputs": []
    },
    {
      "cell_type": "code",
      "metadata": {
        "id": "Y_qHFtRFsIdR",
        "colab_type": "code",
        "colab": {}
      },
      "source": [
        "# Ex. 1.b\n",
        "False and True"
      ],
      "execution_count": null,
      "outputs": []
    },
    {
      "cell_type": "code",
      "metadata": {
        "id": "RC5eig_AsNhA",
        "colab_type": "code",
        "colab": {}
      },
      "source": [
        "# Ex. 1.c\n",
        "1 == 1 and 2 == 1"
      ],
      "execution_count": null,
      "outputs": []
    },
    {
      "cell_type": "code",
      "metadata": {
        "id": "MJ8R9lydsRVU",
        "colab_type": "code",
        "colab": {}
      },
      "source": [
        "# Ex. 1.d\n",
        "\"test\" == \"test\""
      ],
      "execution_count": null,
      "outputs": []
    },
    {
      "cell_type": "code",
      "metadata": {
        "id": "TX8e7pi6sV_g",
        "colab_type": "code",
        "colab": {}
      },
      "source": [
        "# Ex. 1.e\n",
        "\"test\" == \"testing\""
      ],
      "execution_count": null,
      "outputs": []
    },
    {
      "cell_type": "code",
      "metadata": {
        "id": "AVY38DGosbSP",
        "colab_type": "code",
        "colab": {}
      },
      "source": [
        "# Ex. 1.f\n",
        "1 == 1 or 2 != 1"
      ],
      "execution_count": null,
      "outputs": []
    },
    {
      "cell_type": "code",
      "metadata": {
        "id": "iiEUMHgZsF-h",
        "colab_type": "code",
        "colab": {}
      },
      "source": [
        "# Ex. 1.g\n",
        "True and 1 == 1\n"
      ],
      "execution_count": null,
      "outputs": []
    },
    {
      "cell_type": "code",
      "metadata": {
        "id": "0SP0ICLSskGi",
        "colab_type": "code",
        "colab": {}
      },
      "source": [
        "# Ex. 1.h\n",
        "False and 0 != 0\n"
      ],
      "execution_count": null,
      "outputs": []
    },
    {
      "cell_type": "code",
      "metadata": {
        "id": "hPzFcaa9sseY",
        "colab_type": "code",
        "colab": {}
      },
      "source": [
        "# Ex. 1.i\n",
        "not (True and False)"
      ],
      "execution_count": null,
      "outputs": []
    },
    {
      "cell_type": "code",
      "metadata": {
        "id": "Qh8e6Bznsw4c",
        "colab_type": "code",
        "colab": {}
      },
      "source": [
        "# Ex. 1.j\n",
        "not (1 == 1 and 0 != 1)\n"
      ],
      "execution_count": null,
      "outputs": []
    },
    {
      "cell_type": "code",
      "metadata": {
        "id": "npayGPZRs1LB",
        "colab_type": "code",
        "colab": {}
      },
      "source": [
        "# Ex. 1.k\n",
        "1 == 1 and (not (\"testing\" == 1 or 1 == 0))\n"
      ],
      "execution_count": null,
      "outputs": []
    },
    {
      "cell_type": "code",
      "metadata": {
        "id": "goMngUaIs6El",
        "colab_type": "code",
        "colab": {}
      },
      "source": [
        "# Ex. 1.l\n",
        "3 == 3 and (not (\"testing\" == \"testing\" or \"Python\" == \"Fun\"))\n"
      ],
      "execution_count": null,
      "outputs": []
    },
    {
      "cell_type": "markdown",
      "metadata": {
        "id": "CvlOwdrWmemz",
        "colab_type": "text"
      },
      "source": [
        "### Additional Exercises for Variables"
      ]
    },
    {
      "cell_type": "code",
      "metadata": {
        "id": "JXMpcTkOmyD5",
        "colab_type": "code",
        "colab": {}
      },
      "source": [
        "# 1. What will be the result of running this cell? Please, explain. \n",
        "\n",
        "True = 'True'"
      ],
      "execution_count": null,
      "outputs": []
    },
    {
      "cell_type": "code",
      "metadata": {
        "id": "w_nqHw1g2FkW",
        "colab_type": "code",
        "colab": {}
      },
      "source": [
        "# 2. What will be the result of running this cell? Please, explain. \n",
        "\n",
        "True == 'True'"
      ],
      "execution_count": null,
      "outputs": []
    },
    {
      "cell_type": "code",
      "metadata": {
        "id": "Ja5XOQwJm4qD",
        "colab_type": "code",
        "colab": {}
      },
      "source": [
        "# 3. What will be the result of running this cell? Please, explain. \n",
        "\n",
        "(3 < 5) == True"
      ],
      "execution_count": null,
      "outputs": []
    },
    {
      "cell_type": "code",
      "metadata": {
        "id": "L_5RguTgnO08",
        "colab_type": "code",
        "colab": {}
      },
      "source": [
        "# 4. What will be the result of running this cell? Please, explain. \n",
        "# this is a tricky one\n",
        "\n",
        "3 < 5 == True"
      ],
      "execution_count": null,
      "outputs": []
    },
    {
      "cell_type": "code",
      "metadata": {
        "id": "WHp50kfcnjzo",
        "colab_type": "code",
        "colab": {}
      },
      "source": [
        "# 5. What will be the result of running this cell? Please, explain. \n",
        "# This exercise might help you to explain the results in ex. 4\n",
        "\n",
        "a = 5\n",
        "3 < a < 6"
      ],
      "execution_count": null,
      "outputs": []
    },
    {
      "cell_type": "code",
      "metadata": {
        "id": "GAESX_EKnz4q",
        "colab_type": "code",
        "colab": {}
      },
      "source": [
        "# 6. What will be the result of running this cell? Please, explain. \n",
        "# This exercise might help you to explain the results in ex. 4 and ex. 5\n",
        "\n",
        "a = 5\n",
        "(3 < a) and (a < 6)"
      ],
      "execution_count": null,
      "outputs": []
    },
    {
      "cell_type": "code",
      "metadata": {
        "id": "9WV0IYTpn_DZ",
        "colab_type": "code",
        "colab": {}
      },
      "source": [
        "# 7. Introduce variable calories. Assign its value to 23\n",
        "# The calories variables stores the information about how many calories\n",
        "# you burn while running on a treadmill for 2 minutes. \n",
        "#\n",
        "# Output, how many calories you will burn running for\n",
        "# 10 minutes\n",
        "# 20 minutes\n",
        "# 30 minutes"
      ],
      "execution_count": null,
      "outputs": []
    }
  ]
}